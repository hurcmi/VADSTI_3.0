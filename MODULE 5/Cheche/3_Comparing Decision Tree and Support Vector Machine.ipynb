{
 "cells": [
  {
   "cell_type": "markdown",
   "metadata": {},
   "source": [
    "# Import Libraries"
   ]
  },
  {
   "cell_type": "code",
   "execution_count": 18,
   "metadata": {},
   "outputs": [],
   "source": [
    "import pandas as pd\n",
    "import numpy as np\n",
    "from random import sample\n",
    "import time\n",
    "from datetime import datetime"
   ]
  },
  {
   "cell_type": "markdown",
   "metadata": {},
   "source": [
    "# Import Models"
   ]
  },
  {
   "cell_type": "code",
   "execution_count": 4,
   "metadata": {},
   "outputs": [],
   "source": [
    "from sklearn.tree import DecisionTreeClassifier\n",
    "from sklearn.svm import SVC\n",
    "from sklearn.preprocessing import StandardScaler"
   ]
  },
  {
   "cell_type": "markdown",
   "metadata": {},
   "source": [
    "# Training Set"
   ]
  },
  {
   "cell_type": "code",
   "execution_count": 5,
   "metadata": {
    "scrolled": true
   },
   "outputs": [],
   "source": [
    "data_train = pd.read_csv(\"Training_set.csv\") # Read the training dataset into Jupyter note book"
   ]
  },
  {
   "cell_type": "code",
   "execution_count": 6,
   "metadata": {},
   "outputs": [],
   "source": [
    "x_train = data_train.drop('Traffic_Type', axis =1) # Separate the features into a dataframe and assign it to a new variable (x_train)"
   ]
  },
  {
   "cell_type": "code",
   "execution_count": 7,
   "metadata": {},
   "outputs": [],
   "source": [
    "y_train = data_train['Traffic_Type'] # Assign the label (Traffic_Type) to a new variable (y_train)"
   ]
  },
  {
   "cell_type": "markdown",
   "metadata": {},
   "source": [
    "# Test Set"
   ]
  },
  {
   "cell_type": "code",
   "execution_count": 8,
   "metadata": {},
   "outputs": [],
   "source": [
    "data_test = pd.read_csv(\"Test_set.csv\") # Read the test dataset into Jupyter note book"
   ]
  },
  {
   "cell_type": "code",
   "execution_count": 9,
   "metadata": {},
   "outputs": [],
   "source": [
    "x_test = data_test.drop('Traffic_Type', axis =1) # Separate the features into a dataframe and assign it to a new variable (x_test)"
   ]
  },
  {
   "cell_type": "code",
   "execution_count": 10,
   "metadata": {},
   "outputs": [],
   "source": [
    "y_test = data_test['Traffic_Type'] # Assign the label (Traffic_Type) to a new variable (y_test)"
   ]
  },
  {
   "cell_type": "markdown",
   "metadata": {},
   "source": [
    "# Standardize the features"
   ]
  },
  {
   "cell_type": "code",
   "execution_count": 11,
   "metadata": {},
   "outputs": [],
   "source": [
    "scaler = StandardScaler() # Create an instance of a scaler function"
   ]
  },
  {
   "cell_type": "code",
   "execution_count": 12,
   "metadata": {},
   "outputs": [],
   "source": [
    "x_train = scaler.fit_transform(x_train) # Apply the scaler to the training set."
   ]
  },
  {
   "cell_type": "code",
   "execution_count": 13,
   "metadata": {},
   "outputs": [],
   "source": [
    "x_test = scaler.transform(x_test) # Apply the scaler to the test set."
   ]
  },
  {
   "cell_type": "markdown",
   "metadata": {},
   "source": [
    "# Train the models"
   ]
  },
  {
   "cell_type": "code",
   "execution_count": 14,
   "metadata": {},
   "outputs": [],
   "source": [
    "dt = DecisionTreeClassifier() # Create an instance of the decision tree model.\n",
    "sv = SVC() # Create an instance of the support vector machine model."
   ]
  },
  {
   "cell_type": "code",
   "execution_count": 15,
   "metadata": {},
   "outputs": [
    {
     "data": {
      "text/plain": [
       "DecisionTreeClassifier()"
      ]
     },
     "execution_count": 15,
     "metadata": {},
     "output_type": "execute_result"
    }
   ],
   "source": [
    "dt.fit(x_train, y_train) # train/fit the decision tree model on the training data."
   ]
  },
  {
   "cell_type": "code",
   "execution_count": 16,
   "metadata": {},
   "outputs": [
    {
     "data": {
      "text/plain": [
       "SVC()"
      ]
     },
     "execution_count": 16,
     "metadata": {},
     "output_type": "execute_result"
    }
   ],
   "source": [
    "sv.fit(x_train, y_train) # train/fit the support vector machine model on the training data."
   ]
  },
  {
   "cell_type": "markdown",
   "metadata": {},
   "source": [
    "# Comparing the execution times of the DT and SVC models on predicting on the test set using 50 random samples of 4000 data points each from the test set."
   ]
  },
  {
   "cell_type": "code",
   "execution_count": 19,
   "metadata": {},
   "outputs": [],
   "source": [
    "arr_sv = [] # Array to hold the execution time for the SVM model\n",
    "arr_dt = [] # Array to hold the execution time for the DT model\n",
    "\n",
    "\n",
    "for i in range(50): # Generating a sample of 50 random data points of size 4000 each\n",
    "    randomize = np.random.randint(22543, size=4000) # Declaring the random function\n",
    "    sample = x_test[randomize,:] # Taking a sample of the test set   \n",
    "    \n",
    "    # Computing and recording the execution time of the DT model on predicting one sample of the test set \n",
    "    start_time = datetime.now()\n",
    "    dt.predict(sample)\n",
    "    end_time = datetime.now()\n",
    "    arr_dt.append(end_time - start_time)\n",
    "    \n",
    "     # Computing and recording the execution time of the SVM model on predicting one sample of the test set \n",
    "    start_time = datetime.now()\n",
    "    sv.predict(sample)\n",
    "    end_time = datetime.now()\n",
    "    arr_sv.append(end_time - start_time)"
   ]
  },
  {
   "cell_type": "code",
   "execution_count": 20,
   "metadata": {},
   "outputs": [
    {
     "name": "stdout",
     "output_type": "stream",
     "text": [
      "Decision Tree \t Support Vector Machine \n",
      "\n",
      "0:00:00.002988 \t 0:00:04.127124 \n",
      "\n",
      "0:00:00.001203 \t 0:00:03.986821 \n",
      "\n",
      "0:00:00.001002 \t 0:00:03.927674 \n",
      "\n",
      "0:00:00.001986 \t 0:00:03.912069 \n",
      "\n",
      "0:00:00.000989 \t 0:00:03.853239 \n",
      "\n",
      "0:00:00.002156 \t 0:00:03.985677 \n",
      "\n",
      "0:00:00.001947 \t 0:00:03.898094 \n",
      "\n",
      "0:00:00.001010 \t 0:00:03.891078 \n",
      "\n",
      "0:00:00.001001 \t 0:00:03.870097 \n",
      "\n",
      "0:00:00.001986 \t 0:00:03.895012 \n",
      "\n",
      "0:00:00.001999 \t 0:00:03.801914 \n",
      "\n",
      "0:00:00.001999 \t 0:00:03.829152 \n",
      "\n",
      "0:00:00.001467 \t 0:00:03.686159 \n",
      "\n",
      "0:00:00.001000 \t 0:00:03.837024 \n",
      "\n",
      "0:00:00.001000 \t 0:00:03.431525 \n",
      "\n",
      "0:00:00.002002 \t 0:00:03.834841 \n",
      "\n",
      "0:00:00.001997 \t 0:00:03.909461 \n",
      "\n",
      "0:00:00.001002 \t 0:00:03.735957 \n",
      "\n",
      "0:00:00.001044 \t 0:00:04.023923 \n",
      "\n",
      "0:00:00.000984 \t 0:00:03.732611 \n",
      "\n",
      "0:00:00.000991 \t 0:00:03.712148 \n",
      "\n",
      "0:00:00 \t 0:00:03.802663 \n",
      "\n",
      "0:00:00.002005 \t 0:00:03.885617 \n",
      "\n",
      "0:00:00.001054 \t 0:00:03.815638 \n",
      "\n",
      "0:00:00.001968 \t 0:00:03.991840 \n",
      "\n",
      "0:00:00.001969 \t 0:00:03.943626 \n",
      "\n",
      "0:00:00.001997 \t 0:00:03.872814 \n",
      "\n",
      "0:00:00.001012 \t 0:00:03.802520 \n",
      "\n",
      "0:00:00.001163 \t 0:00:03.801725 \n",
      "\n",
      "0:00:00.001002 \t 0:00:03.771184 \n",
      "\n",
      "0:00:00.001998 \t 0:00:03.483491 \n",
      "\n",
      "0:00:00.001000 \t 0:00:03.743792 \n",
      "\n",
      "0:00:00.001551 \t 0:00:03.641835 \n",
      "\n",
      "0:00:00.002079 \t 0:00:03.699370 \n",
      "\n",
      "0:00:00.001007 \t 0:00:03.530895 \n",
      "\n",
      "0:00:00.001319 \t 0:00:03.785271 \n",
      "\n",
      "0:00:00.001989 \t 0:00:03.882440 \n",
      "\n",
      "0:00:00.001999 \t 0:00:03.845122 \n",
      "\n",
      "0:00:00.000999 \t 0:00:03.651377 \n",
      "\n",
      "0:00:00.000995 \t 0:00:03.792795 \n",
      "\n",
      "0:00:00.001994 \t 0:00:04.030673 \n",
      "\n",
      "0:00:00.001002 \t 0:00:03.840621 \n",
      "\n",
      "0:00:00.002000 \t 0:00:03.729567 \n",
      "\n",
      "0:00:00.001201 \t 0:00:03.880949 \n",
      "\n",
      "0:00:00.002024 \t 0:00:03.512459 \n",
      "\n",
      "0:00:00.002003 \t 0:00:03.657523 \n",
      "\n",
      "0:00:00.001000 \t 0:00:03.815451 \n",
      "\n",
      "0:00:00.002004 \t 0:00:03.768251 \n",
      "\n",
      "0:00:00.001000 \t 0:00:03.881758 \n",
      "\n",
      "0:00:00.000995 \t 0:00:03.808729 \n",
      "\n"
     ]
    }
   ],
   "source": [
    "# Displaying the execution times for all 50 samples\n",
    "print('Decision Tree','\\t','Support Vector Machine', '\\n')\n",
    "for item in range(len(arr_dt)):\n",
    "    print(arr_dt[item],'\\t', arr_sv[item], '\\n')"
   ]
  },
  {
   "cell_type": "code",
   "execution_count": 30,
   "metadata": {},
   "outputs": [
    {
     "name": "stdout",
     "output_type": "stream",
     "text": [
      "['00.002988', '00.001203', '00.001002', '00.001986', '00.000989', '00.002156', '00.001947', '00.001010', '00.001001', '00.001986', '00.001999', '00.001999', '00.001467', '00.001000', '00.001000', '00.002002', '00.001997', '00.001002', '00.001044', '00.000984', '00.000991', '', '00.002005', '00.001054', '00.001968', '00.001969', '00.001997', '00.001012', '00.001163', '00.001002', '00.001998', '00.001000', '00.001551', '00.002079', '00.001007', '00.001319', '00.001989', '00.001999', '00.000999', '00.000995', '00.001994', '00.001002', '00.002000', '00.001201', '00.002024', '00.002003', '00.001000', '00.002004', '00.001000', '00.000995']\n"
     ]
    }
   ],
   "source": [
    "# Splitting the execution time values in the DT array and extracting seconds portion of the time.\n",
    "t_dt = pd.DataFrame(arr_dt)\n",
    "seconds_dt = []\n",
    "for j in range(len(t_dt)):\n",
    "    seconds_dt.append(str(t_dt.iloc[j]).split()[3][6:])\n",
    "print(seconds_dt)"
   ]
  },
  {
   "cell_type": "code",
   "execution_count": 23,
   "metadata": {},
   "outputs": [
    {
     "name": "stdout",
     "output_type": "stream",
     "text": [
      "['04.127124', '03.986821', '03.927674', '03.912069', '03.853239', '03.985677', '03.898094', '03.891078', '03.870097', '03.895012', '03.801914', '03.829152', '03.686159', '03.837024', '03.431525', '03.834841', '03.909461', '03.735957', '04.023923', '03.732611', '03.712148', '03.802663', '03.885617', '03.815638', '03.991840', '03.943626', '03.872814', '03.802520', '03.801725', '03.771184', '03.483491', '03.743792', '03.641835', '03.699370', '03.530895', '03.785271', '03.882440', '03.845122', '03.651377', '03.792795', '04.030673', '03.840621', '03.729567', '03.880949', '03.512459', '03.657523', '03.815451', '03.768251', '03.881758', '03.808729']\n"
     ]
    }
   ],
   "source": [
    "# Splitting the execution time values in the SVM array and extracting seconds portion of the time.\n",
    "t_sv = pd.DataFrame(arr_sv)\n",
    "seconds_sv = []\n",
    "for k in range(len(t_sv)):\n",
    "    seconds_sv.append(str(t_sv.iloc[k]).split()[3][6:])\n",
    "print(seconds_sv)"
   ]
  },
  {
   "cell_type": "code",
   "execution_count": 31,
   "metadata": {},
   "outputs": [],
   "source": [
    "# Placing both sets of values in a dataframe and saving it as an excel worksheet.\n",
    "Dec_Tree = pd.DataFrame(seconds_dt, columns=['Decision Tree'])\n",
    "SVM = pd.DataFrame(seconds_sv, columns=['Support Vector Machine'])\n",
    "frames = [Dec_Tree, SVM]\n",
    "project = pd.concat(frames, axis=1)\n",
    "project = project.apply(pd.to_numeric)\n",
    "project.to_excel('Project2.xlsx', index=False)"
   ]
  }
 ],
 "metadata": {
  "kernelspec": {
   "display_name": "Python 3 (ipykernel)",
   "language": "python",
   "name": "python3"
  },
  "language_info": {
   "codemirror_mode": {
    "name": "ipython",
    "version": 3
   },
   "file_extension": ".py",
   "mimetype": "text/x-python",
   "name": "python",
   "nbconvert_exporter": "python",
   "pygments_lexer": "ipython3",
   "version": "3.9.7"
  }
 },
 "nbformat": 4,
 "nbformat_minor": 4
}
