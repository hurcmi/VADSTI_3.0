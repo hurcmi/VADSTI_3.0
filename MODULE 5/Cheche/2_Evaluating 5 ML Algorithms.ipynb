{
 "cells": [
  {
   "cell_type": "markdown",
   "metadata": {},
   "source": [
    "# Import Libraries"
   ]
  },
  {
   "cell_type": "code",
   "execution_count": 61,
   "metadata": {},
   "outputs": [],
   "source": [
    "import numpy as np\n",
    "import matplotlib.pyplot as plt\n",
    "import pandas as pd"
   ]
  },
  {
   "cell_type": "markdown",
   "metadata": {},
   "source": [
    "# Import Models"
   ]
  },
  {
   "cell_type": "code",
   "execution_count": 62,
   "metadata": {},
   "outputs": [],
   "source": [
    "# Importing models\n",
    "from sklearn.linear_model import LogisticRegression\n",
    "from sklearn.naive_bayes import GaussianNB\n",
    "from sklearn.tree import DecisionTreeClassifier\n",
    "from sklearn.neighbors import KNeighborsClassifier\n",
    "from sklearn.svm import SVC\n",
    "from sklearn.preprocessing import StandardScaler"
   ]
  },
  {
   "cell_type": "markdown",
   "metadata": {},
   "source": [
    "# Import Metrics"
   ]
  },
  {
   "cell_type": "code",
   "execution_count": 63,
   "metadata": {},
   "outputs": [],
   "source": [
    "from sklearn.metrics import confusion_matrix, classification_report, accuracy_score"
   ]
  },
  {
   "cell_type": "markdown",
   "metadata": {},
   "source": [
    "# Training Set"
   ]
  },
  {
   "cell_type": "code",
   "execution_count": 64,
   "metadata": {},
   "outputs": [],
   "source": [
    "train = pd.read_csv(\"Training_set.csv\") # Read the training dataset into Jupyter notebook"
   ]
  },
  {
   "cell_type": "code",
   "execution_count": 65,
   "metadata": {},
   "outputs": [],
   "source": [
    "# Separate the features into a dataframe and assign it to a new variable (train_x)\n",
    "\n",
    "train_x = train.drop('Traffic_Type', axis=1)"
   ]
  },
  {
   "cell_type": "code",
   "execution_count": 66,
   "metadata": {},
   "outputs": [],
   "source": [
    "train_y = train['Traffic_Type'] # Assign the label (Traffic_Type) to a new variable (train_y)"
   ]
  },
  {
   "cell_type": "markdown",
   "metadata": {},
   "source": [
    "# Test Set"
   ]
  },
  {
   "cell_type": "code",
   "execution_count": 67,
   "metadata": {},
   "outputs": [],
   "source": [
    "test = pd.read_csv(\"Test_set.csv\") # Read the test dataset into Jupyter note book"
   ]
  },
  {
   "cell_type": "code",
   "execution_count": 68,
   "metadata": {},
   "outputs": [],
   "source": [
    "# Separate the features into a dataframe and assign it to a new variable (test_x)\n",
    "\n",
    "test_x = test.drop('Traffic_Type', axis=1)"
   ]
  },
  {
   "cell_type": "code",
   "execution_count": 69,
   "metadata": {},
   "outputs": [],
   "source": [
    "test_y = test['Traffic_Type'] # Assign the label (Traffic_Type) to a new variable (test_y)"
   ]
  },
  {
   "cell_type": "markdown",
   "metadata": {},
   "source": [
    "# Logistics Regression (LR)"
   ]
  },
  {
   "cell_type": "code",
   "execution_count": 70,
   "metadata": {},
   "outputs": [],
   "source": [
    "lr = LogisticRegression(max_iter=1000) # Create an instance of the logistic regression model."
   ]
  },
  {
   "cell_type": "code",
   "execution_count": 71,
   "metadata": {},
   "outputs": [
    {
     "data": {
      "text/plain": [
       "LogisticRegression(max_iter=1000)"
      ]
     },
     "execution_count": 71,
     "metadata": {},
     "output_type": "execute_result"
    }
   ],
   "source": [
    "lr.fit(train_x, train_y) # train/fit the model on the training data"
   ]
  },
  {
   "cell_type": "code",
   "execution_count": 72,
   "metadata": {},
   "outputs": [],
   "source": [
    "lr_pred = lr.predict(test_x) # Create a variable to hold the predictions and call predictions on the test data."
   ]
  },
  {
   "cell_type": "code",
   "execution_count": 73,
   "metadata": {},
   "outputs": [
    {
     "data": {
      "text/plain": [
       "array([[6558, 6275],\n",
       "       [ 795, 8915]], dtype=int64)"
      ]
     },
     "execution_count": 73,
     "metadata": {},
     "output_type": "execute_result"
    }
   ],
   "source": [
    "confusion_matrix(test_y, lr_pred) # Compare the predictions on the test data with the actual values (labels)."
   ]
  },
  {
   "cell_type": "code",
   "execution_count": 74,
   "metadata": {},
   "outputs": [
    {
     "name": "stdout",
     "output_type": "stream",
     "text": [
      "              precision    recall  f1-score   support\n",
      "\n",
      "           0       0.89      0.51      0.65     12833\n",
      "           1       0.59      0.92      0.72      9710\n",
      "\n",
      "    accuracy                           0.69     22543\n",
      "   macro avg       0.74      0.71      0.68     22543\n",
      "weighted avg       0.76      0.69      0.68     22543\n",
      "\n"
     ]
    }
   ],
   "source": [
    "print(classification_report(test_y, lr_pred)) # Display the report of the model's performance on predicting on the test data"
   ]
  },
  {
   "cell_type": "code",
   "execution_count": 75,
   "metadata": {},
   "outputs": [
    {
     "data": {
      "text/plain": [
       "0.6863771458989487"
      ]
     },
     "execution_count": 75,
     "metadata": {},
     "output_type": "execute_result"
    }
   ],
   "source": [
    "accuracy_score(test_y, lr_pred) # Display the models accuracy of prediction on the test data."
   ]
  },
  {
   "cell_type": "markdown",
   "metadata": {},
   "source": [
    "# Standardize the Variables"
   ]
  },
  {
   "cell_type": "code",
   "execution_count": 76,
   "metadata": {},
   "outputs": [],
   "source": [
    "# It's good practice to statndardize variables and see if models perform better. Standardize the features and run the.\n",
    "# model again."
   ]
  },
  {
   "cell_type": "code",
   "execution_count": 77,
   "metadata": {},
   "outputs": [],
   "source": [
    "scaler = StandardScaler() # Create an instance of a scaler function."
   ]
  },
  {
   "cell_type": "code",
   "execution_count": 78,
   "metadata": {},
   "outputs": [],
   "source": [
    "scaled_train_x = scaler.fit_transform(train_x) # Apply the scaler to the training set."
   ]
  },
  {
   "cell_type": "code",
   "execution_count": 79,
   "metadata": {},
   "outputs": [],
   "source": [
    "scaled_test_x = scaler.transform(test_x) # Apply the scaler to the test set."
   ]
  },
  {
   "cell_type": "code",
   "execution_count": 80,
   "metadata": {},
   "outputs": [
    {
     "data": {
      "text/plain": [
       "LogisticRegression(max_iter=1000)"
      ]
     },
     "execution_count": 80,
     "metadata": {},
     "output_type": "execute_result"
    }
   ],
   "source": [
    "lr.fit(scaled_train_x, train_y) # train/fit the model on the scaled training set."
   ]
  },
  {
   "cell_type": "code",
   "execution_count": 81,
   "metadata": {},
   "outputs": [],
   "source": [
    "lr_pred2 = lr.predict(scaled_test_x) # Call a new set of predictions on the scaled test set."
   ]
  },
  {
   "cell_type": "code",
   "execution_count": 82,
   "metadata": {},
   "outputs": [
    {
     "data": {
      "text/plain": [
       "array([[7833, 5000],\n",
       "       [ 669, 9041]], dtype=int64)"
      ]
     },
     "execution_count": 82,
     "metadata": {},
     "output_type": "execute_result"
    }
   ],
   "source": [
    "confusion_matrix(test_y, lr_pred2) # Compare the predictions on the scaled test set with the actual values (labels)."
   ]
  },
  {
   "cell_type": "code",
   "execution_count": 83,
   "metadata": {},
   "outputs": [
    {
     "name": "stdout",
     "output_type": "stream",
     "text": [
      "              precision    recall  f1-score   support\n",
      "\n",
      "           0       0.92      0.61      0.73     12833\n",
      "           1       0.64      0.93      0.76      9710\n",
      "\n",
      "    accuracy                           0.75     22543\n",
      "   macro avg       0.78      0.77      0.75     22543\n",
      "weighted avg       0.80      0.75      0.75     22543\n",
      "\n"
     ]
    }
   ],
   "source": [
    "print(classification_report(test_y, lr_pred2)) # Display the report of the model's performance on predicting on the scaled test set."
   ]
  },
  {
   "cell_type": "code",
   "execution_count": 84,
   "metadata": {},
   "outputs": [
    {
     "data": {
      "text/plain": [
       "0.7485250410326931"
      ]
     },
     "execution_count": 84,
     "metadata": {},
     "output_type": "execute_result"
    }
   ],
   "source": [
    "accuracy_score(test_y, lr_pred2) # Display the model's accuracy of prediction on the scaled test set."
   ]
  },
  {
   "cell_type": "code",
   "execution_count": 85,
   "metadata": {},
   "outputs": [],
   "source": [
    "# Since we get better performance all around, we will use the standardized/scaled features going forward."
   ]
  },
  {
   "cell_type": "markdown",
   "metadata": {},
   "source": [
    "# Naive Bayes (NB)"
   ]
  },
  {
   "cell_type": "code",
   "execution_count": 86,
   "metadata": {},
   "outputs": [],
   "source": [
    "nb = GaussianNB() # Create an instance of the naive bayes model."
   ]
  },
  {
   "cell_type": "code",
   "execution_count": 87,
   "metadata": {},
   "outputs": [
    {
     "data": {
      "text/plain": [
       "GaussianNB()"
      ]
     },
     "execution_count": 87,
     "metadata": {},
     "output_type": "execute_result"
    }
   ],
   "source": [
    "nb.fit(scaled_train_x, train_y)  # train/fit the model on the scaled training data"
   ]
  },
  {
   "cell_type": "code",
   "execution_count": 88,
   "metadata": {},
   "outputs": [],
   "source": [
    "nb_pred = nb.predict(scaled_test_x) # Create a variable to hold the predictions and call predictions on the scaled test data."
   ]
  },
  {
   "cell_type": "code",
   "execution_count": 89,
   "metadata": {},
   "outputs": [
    {
     "data": {
      "text/plain": [
       "array([[8581, 4252],\n",
       "       [ 822, 8888]], dtype=int64)"
      ]
     },
     "execution_count": 89,
     "metadata": {},
     "output_type": "execute_result"
    }
   ],
   "source": [
    "confusion_matrix(test_y, nb_pred) # Compare the predictions on the scaled test data with the actual values (labels)."
   ]
  },
  {
   "cell_type": "code",
   "execution_count": 90,
   "metadata": {},
   "outputs": [
    {
     "name": "stdout",
     "output_type": "stream",
     "text": [
      "              precision    recall  f1-score   support\n",
      "\n",
      "           0       0.91      0.67      0.77     12833\n",
      "           1       0.68      0.92      0.78      9710\n",
      "\n",
      "    accuracy                           0.77     22543\n",
      "   macro avg       0.79      0.79      0.77     22543\n",
      "weighted avg       0.81      0.77      0.77     22543\n",
      "\n"
     ]
    }
   ],
   "source": [
    "print(classification_report(test_y, nb_pred)) # Display the report of the model's performance on predicting on the scaled test data."
   ]
  },
  {
   "cell_type": "markdown",
   "metadata": {},
   "source": [
    "# Decision Tree (DT)"
   ]
  },
  {
   "cell_type": "code",
   "execution_count": 91,
   "metadata": {},
   "outputs": [],
   "source": [
    "dt = DecisionTreeClassifier() # Create an instance of the decision tree model."
   ]
  },
  {
   "cell_type": "code",
   "execution_count": 92,
   "metadata": {},
   "outputs": [
    {
     "data": {
      "text/plain": [
       "DecisionTreeClassifier()"
      ]
     },
     "execution_count": 92,
     "metadata": {},
     "output_type": "execute_result"
    }
   ],
   "source": [
    "dt.fit(scaled_train_x, train_y) # train/fit the model on the scaled training data"
   ]
  },
  {
   "cell_type": "code",
   "execution_count": 93,
   "metadata": {},
   "outputs": [],
   "source": [
    "dt_pred = dt.predict(scaled_test_x) # Create a variable to hold the predictions and call predictions on the scaled test data."
   ]
  },
  {
   "cell_type": "code",
   "execution_count": 94,
   "metadata": {},
   "outputs": [
    {
     "data": {
      "text/plain": [
       "array([[8609, 4224],\n",
       "       [ 260, 9450]], dtype=int64)"
      ]
     },
     "execution_count": 94,
     "metadata": {},
     "output_type": "execute_result"
    }
   ],
   "source": [
    "confusion_matrix(test_y, dt_pred) # Compare the predictions on the scaled test data with the actual values (labels)."
   ]
  },
  {
   "cell_type": "code",
   "execution_count": 95,
   "metadata": {},
   "outputs": [
    {
     "name": "stdout",
     "output_type": "stream",
     "text": [
      "              precision    recall  f1-score   support\n",
      "\n",
      "           0       0.97      0.67      0.79     12833\n",
      "           1       0.69      0.97      0.81      9710\n",
      "\n",
      "    accuracy                           0.80     22543\n",
      "   macro avg       0.83      0.82      0.80     22543\n",
      "weighted avg       0.85      0.80      0.80     22543\n",
      "\n"
     ]
    }
   ],
   "source": [
    "print(classification_report(test_y, dt_pred)) # Display the report of the model's performance on predicting on the scaled test data."
   ]
  },
  {
   "cell_type": "markdown",
   "metadata": {},
   "source": [
    "# K-Nearest Neighbor (KNN)"
   ]
  },
  {
   "cell_type": "code",
   "execution_count": 96,
   "metadata": {},
   "outputs": [],
   "source": [
    "knn = KNeighborsClassifier() # Create an instance of the knn model."
   ]
  },
  {
   "cell_type": "code",
   "execution_count": 97,
   "metadata": {},
   "outputs": [
    {
     "data": {
      "text/plain": [
       "KNeighborsClassifier()"
      ]
     },
     "execution_count": 97,
     "metadata": {},
     "output_type": "execute_result"
    }
   ],
   "source": [
    "knn.fit(scaled_train_x, train_y) # train/fit the model on the scaled training data"
   ]
  },
  {
   "cell_type": "code",
   "execution_count": 98,
   "metadata": {},
   "outputs": [],
   "source": [
    "knn_pred = knn.predict(scaled_test_x) # Create a variable to hold the predictions and call predictions on the scaled test data."
   ]
  },
  {
   "cell_type": "code",
   "execution_count": 99,
   "metadata": {},
   "outputs": [
    {
     "data": {
      "text/plain": [
       "array([[8241, 4592],\n",
       "       [ 230, 9480]], dtype=int64)"
      ]
     },
     "execution_count": 99,
     "metadata": {},
     "output_type": "execute_result"
    }
   ],
   "source": [
    "confusion_matrix(test_y, knn_pred) # Compare the predictions on the scaled test data with the actual values (labels)."
   ]
  },
  {
   "cell_type": "code",
   "execution_count": 100,
   "metadata": {},
   "outputs": [
    {
     "name": "stdout",
     "output_type": "stream",
     "text": [
      "              precision    recall  f1-score   support\n",
      "\n",
      "           0       0.97      0.64      0.77     12833\n",
      "           1       0.67      0.98      0.80      9710\n",
      "\n",
      "    accuracy                           0.79     22543\n",
      "   macro avg       0.82      0.81      0.79     22543\n",
      "weighted avg       0.84      0.79      0.78     22543\n",
      "\n"
     ]
    }
   ],
   "source": [
    "print(classification_report(test_y, knn_pred)) # Display the report of the model's performance on predicting on the scaled test data."
   ]
  },
  {
   "cell_type": "markdown",
   "metadata": {},
   "source": [
    "## KNN Elbow Method"
   ]
  },
  {
   "cell_type": "code",
   "execution_count": 101,
   "metadata": {},
   "outputs": [],
   "source": [
    "# The elbow method is used to find an optimal value for 'k'\n",
    "\n",
    "#error_rate = [] # Declare an array to hold the error rate\n",
    "\n",
    "# Run the algorithm for k - 1 to 40 and record the error rate for each 'k' value.\n",
    "#for i in range(1,40):\n",
    "    #kn = KNeighborsClassifier(n_neighbors=i)\n",
    "    #kn.fit(scaled_train_x, train_y)\n",
    "    #pred_i = kn.predict(scaled_test_x)\n",
    "    #error_rate.append(np.mean(pred_i != test_y))"
   ]
  },
  {
   "cell_type": "code",
   "execution_count": 102,
   "metadata": {},
   "outputs": [],
   "source": [
    "# Plot the value of 'k' against the error rate to determine the optimal value foe 'k'\n",
    "#plt.figure(figsize=(10,6))\n",
    "#plt.plot(range(1,40), error_rate, color='blue', ls='--', marker='o', markerfacecolor='red', markersize=10)\n",
    "#plt.title('K Value vs Error Rate')\n",
    "#plt.xlabel('K')\n",
    "#plt.ylabel('Error Rate')"
   ]
  },
  {
   "cell_type": "markdown",
   "metadata": {},
   "source": [
    "# Running the loop 40 times as above takes a lot of time. Running it 10 times as below is better."
   ]
  },
  {
   "cell_type": "code",
   "execution_count": 103,
   "metadata": {},
   "outputs": [],
   "source": [
    "# The elbow method is used to find an optimal value for 'k'\n",
    "\n",
    "error_rate = [] # Declare an array to hold the error rate\n",
    "\n",
    "# Run the algorithm for k - 1 to 10 and record the error rate for each 'k' value.\n",
    "for i in range(1,10):\n",
    "    kn = KNeighborsClassifier(n_neighbors=i)\n",
    "    kn.fit(scaled_train_x, train_y)\n",
    "    pred_i = kn.predict(scaled_test_x)\n",
    "    error_rate.append(np.mean(pred_i != test_y))"
   ]
  },
  {
   "cell_type": "code",
   "execution_count": 104,
   "metadata": {},
   "outputs": [
    {
     "data": {
      "text/plain": [
       "Text(0, 0.5, 'Error Rate')"
      ]
     },
     "execution_count": 104,
     "metadata": {},
     "output_type": "execute_result"
    },
    {
     "data": {
      "image/png": "[encoded data removed]",
      "text/plain": [
       "<Figure size 720x432 with 1 Axes>"
      ]
     },
     "metadata": {
      "needs_background": "light"
     },
     "output_type": "display_data"
    }
   ],
   "source": [
    "# Plot the value of 'k' against the error rate to determine the optimal value foe 'k'\n",
    "plt.figure(figsize=(10,6))\n",
    "plt.plot(range(1,10), error_rate, color='blue', ls='--', marker='o', markerfacecolor='red', markersize=10)\n",
    "plt.title('K Value vs Error Rate')\n",
    "plt.xlabel('K')\n",
    "plt.ylabel('Error Rate')"
   ]
  },
  {
   "cell_type": "code",
   "execution_count": 105,
   "metadata": {},
   "outputs": [],
   "source": [
    "# The optimal value for k is 4, since k=4 has produces the lowest error value"
   ]
  },
  {
   "cell_type": "code",
   "execution_count": 106,
   "metadata": {},
   "outputs": [],
   "source": [
    "knn2 = KNeighborsClassifier(n_neighbors=4) # Create a new instance of the knn model and set k=4."
   ]
  },
  {
   "cell_type": "code",
   "execution_count": 107,
   "metadata": {},
   "outputs": [
    {
     "data": {
      "text/plain": [
       "KNeighborsClassifier(n_neighbors=4)"
      ]
     },
     "execution_count": 107,
     "metadata": {},
     "output_type": "execute_result"
    }
   ],
   "source": [
    "knn2.fit(scaled_train_x, train_y) # train/fit the new instance of the model on the scaled training data"
   ]
  },
  {
   "cell_type": "code",
   "execution_count": 108,
   "metadata": {},
   "outputs": [],
   "source": [
    "knn_pred2 = knn2.predict(scaled_test_x) # Create a variable to hold the predictions and call predictions on the scaled test data."
   ]
  },
  {
   "cell_type": "code",
   "execution_count": 109,
   "metadata": {},
   "outputs": [
    {
     "data": {
      "text/plain": [
       "array([[8297, 4536],\n",
       "       [ 239, 9471]], dtype=int64)"
      ]
     },
     "execution_count": 109,
     "metadata": {},
     "output_type": "execute_result"
    }
   ],
   "source": [
    "confusion_matrix(test_y, knn_pred2) # Compare the predictions on the scaled test data with the actual values (labels)."
   ]
  },
  {
   "cell_type": "code",
   "execution_count": 110,
   "metadata": {},
   "outputs": [
    {
     "name": "stdout",
     "output_type": "stream",
     "text": [
      "              precision    recall  f1-score   support\n",
      "\n",
      "           0       0.97      0.65      0.78     12833\n",
      "           1       0.68      0.98      0.80      9710\n",
      "\n",
      "    accuracy                           0.79     22543\n",
      "   macro avg       0.82      0.81      0.79     22543\n",
      "weighted avg       0.84      0.79      0.79     22543\n",
      "\n"
     ]
    }
   ],
   "source": [
    "print(classification_report(test_y, knn_pred2)) # Display the report of the model's performance on predicting on the scaled test data."
   ]
  },
  {
   "cell_type": "code",
   "execution_count": 111,
   "metadata": {},
   "outputs": [],
   "source": [
    "# Using the elbow method to find the optimal value for k does not appear to have made much difference."
   ]
  },
  {
   "cell_type": "markdown",
   "metadata": {},
   "source": [
    "# Support Vector Machine (SVM)"
   ]
  },
  {
   "cell_type": "code",
   "execution_count": 112,
   "metadata": {},
   "outputs": [],
   "source": [
    "sv = SVC() # Create a new instance of the support vector machine model."
   ]
  },
  {
   "cell_type": "code",
   "execution_count": 113,
   "metadata": {},
   "outputs": [
    {
     "data": {
      "text/plain": [
       "SVC()"
      ]
     },
     "execution_count": 113,
     "metadata": {},
     "output_type": "execute_result"
    }
   ],
   "source": [
    "sv.fit(scaled_train_x, train_y) # train/fit the model on the scaled training data"
   ]
  },
  {
   "cell_type": "code",
   "execution_count": 114,
   "metadata": {},
   "outputs": [],
   "source": [
    "sv_pred = sv.predict(scaled_test_x) # Create a variable to hold the predictions and call predictions on the scaled test data."
   ]
  },
  {
   "cell_type": "code",
   "execution_count": 115,
   "metadata": {},
   "outputs": [
    {
     "data": {
      "text/plain": [
       "array([[8493, 4340],\n",
       "       [ 209, 9501]], dtype=int64)"
      ]
     },
     "execution_count": 115,
     "metadata": {},
     "output_type": "execute_result"
    }
   ],
   "source": [
    "confusion_matrix(test_y, sv_pred) # Compare the predictions on the scaled test data with the actual values (labels)."
   ]
  },
  {
   "cell_type": "code",
   "execution_count": 116,
   "metadata": {},
   "outputs": [
    {
     "name": "stdout",
     "output_type": "stream",
     "text": [
      "              precision    recall  f1-score   support\n",
      "\n",
      "           0       0.98      0.66      0.79     12833\n",
      "           1       0.69      0.98      0.81      9710\n",
      "\n",
      "    accuracy                           0.80     22543\n",
      "   macro avg       0.83      0.82      0.80     22543\n",
      "weighted avg       0.85      0.80      0.80     22543\n",
      "\n"
     ]
    }
   ],
   "source": [
    "print(classification_report(test_y, sv_pred)) # Display the report of the model's performance on predicting on the scaled test data."
   ]
  }
 ],
 "metadata": {
  "kernelspec": {
   "display_name": "Python 3 (ipykernel)",
   "language": "python",
   "name": "python3"
  },
  "language_info": {
   "codemirror_mode": {
    "name": "ipython",
    "version": 3
   },
   "file_extension": ".py",
   "mimetype": "text/x-python",
   "name": "python",
   "nbconvert_exporter": "python",
   "pygments_lexer": "ipython3",
   "version": "3.9.7"
  }
 },
 "nbformat": 4,
 "nbformat_minor": 4
}
