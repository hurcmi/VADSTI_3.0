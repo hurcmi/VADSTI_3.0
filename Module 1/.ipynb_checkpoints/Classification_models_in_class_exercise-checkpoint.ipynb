{
 "cells": [
  {
   "cell_type": "markdown",
   "id": "8d2c9bba-b826-4ca2-bb18-e9b181787de9",
   "metadata": {
    "id": "8d2c9bba-b826-4ca2-bb18-e9b181787de9"
   },
   "source": [
    "# VADSTI 2024\n",
    "\n",
    "## Module 1: Classification Models\n",
    "\n",
    "### In-class Exercise"
   ]
  },
  {
   "cell_type": "markdown",
   "id": "de764f4d-fc0c-4988-9f6a-2385f7b3eaaa",
   "metadata": {
    "id": "de764f4d-fc0c-4988-9f6a-2385f7b3eaaa"
   },
   "source": [
    "For this exercise, we will use the \"diabetes\" dataset from Sklearn. The goal of this exercise is to prvide hadns-on experience on the concept discussed.  We will use the features contained in the dataset to predict whether or not a patient has diabetes, based on certain diagnostic measurements included in the dataset.\n",
    "\n",
    "Dataset can also be downloaded from UCI's Machine learning data repository: https://archive.ics.uci.edu/dataset/34/diabetes"
   ]
  },
  {
   "cell_type": "markdown",
   "id": "bf6cbc49-ae10-4bb4-9530-f697c98ae8af",
   "metadata": {
    "id": "bf6cbc49-ae10-4bb4-9530-f697c98ae8af"
   },
   "source": [
    "### Task 1: Load the dataset"
   ]
  },
  {
   "cell_type": "code",
   "execution_count": null,
   "id": "06e3efe5-c93a-40d7-a1f0-df98c2c0b78e",
   "metadata": {
    "id": "06e3efe5-c93a-40d7-a1f0-df98c2c0b78e"
   },
   "outputs": [],
   "source": [
    "from sklearn.datasets import load_diabetes\n",
    "import pandas as pd\n",
    "\n",
    "# Load the dataset\n",
    "diabetes = load_diabetes()\n",
    "\n",
    "# Create a DataFrame\n",
    "df = pd.DataFrame(diabetes.data, columns=diabetes.feature_names)\n",
    "df['target'] = diabetes.target"
   ]
  },
  {
   "cell_type": "markdown",
   "id": "513f94a6-62ea-4343-baf5-1b5f237bfd45",
   "metadata": {
    "id": "513f94a6-62ea-4343-baf5-1b5f237bfd45"
   },
   "source": [
    "### Task 2: Exploratory Data Analysis\n",
    "\n",
    "Explore the data, find the count of each class, and do some basic statistical analysis. Visualization of the data using libraries like matplotlib or seaborn can be helpful."
   ]
  },
  {
   "cell_type": "code",
   "execution_count": null,
   "id": "a2a7f0e7-cf6d-432e-ac81-6ec239167ba3",
   "metadata": {
    "id": "a2a7f0e7-cf6d-432e-ac81-6ec239167ba3"
   },
   "outputs": [],
   "source": [
    "import matplotlib.pyplot as plt\n",
    "\n",
    "#### Code goes below #######\n",
    "\n"
   ]
  },
  {
   "cell_type": "markdown",
   "id": "88742c2c-ac0e-42c9-a591-c85cb7897ee3",
   "metadata": {
    "id": "88742c2c-ac0e-42c9-a591-c85cb7897ee3"
   },
   "source": [
    "### Task 3: Pre-processing"
   ]
  },
  {
   "cell_type": "markdown",
   "id": "69cc31de-6caa-4304-b819-05f83b92d28d",
   "metadata": {
    "id": "69cc31de-6caa-4304-b819-05f83b92d28d"
   },
   "source": [
    "Convert the dataset to a standard form using the StandardScaler() class in sklearn.preprocessing"
   ]
  },
  {
   "cell_type": "code",
   "execution_count": null,
   "id": "e7394558-0f5a-4969-ab6f-609e769ad044",
   "metadata": {
    "id": "e7394558-0f5a-4969-ab6f-609e769ad044"
   },
   "outputs": [],
   "source": [
    "from sklearn.preprocessing import StandardScaler\n",
    "\n",
    "####### code goes below ###########\n"
   ]
  },
  {
   "cell_type": "markdown",
   "id": "33f961ba-9752-47b7-aa48-19242972034f",
   "metadata": {
    "id": "33f961ba-9752-47b7-aa48-19242972034f"
   },
   "source": [
    "### Task 4: Train-test split"
   ]
  },
  {
   "cell_type": "markdown",
   "id": "fc3e1742-e35d-4c95-a559-65878008e61d",
   "metadata": {
    "id": "fc3e1742-e35d-4c95-a559-65878008e61d"
   },
   "source": [
    "Split the datset into training and test sets"
   ]
  },
  {
   "cell_type": "code",
   "execution_count": null,
   "id": "3296646b-88d5-4bf5-87c5-f4236a83a7e7",
   "metadata": {
    "id": "3296646b-88d5-4bf5-87c5-f4236a83a7e7"
   },
   "outputs": [],
   "source": [
    "from sklearn.model_selection import train_test_split\n",
    "\n",
    "##### code goes below ###########\n",
    "\n"
   ]
  },
  {
   "cell_type": "markdown",
   "id": "41e321bc-55f7-4bcd-88d2-57e42b50cd01",
   "metadata": {
    "id": "41e321bc-55f7-4bcd-88d2-57e42b50cd01"
   },
   "source": [
    "#### Task 4: Model building\n",
    "\n",
    "Implement any 2 out of 4 models discussed in class.  Models such as: KNN, Logistic Regression, Naive Bayes, and Decision Trees."
   ]
  },
  {
   "cell_type": "code",
   "execution_count": null,
   "id": "cfc31844-4125-4332-a1d3-924d9c730efd",
   "metadata": {
    "id": "cfc31844-4125-4332-a1d3-924d9c730efd"
   },
   "outputs": [],
   "source": [
    "from sklearn.linear_model import LogisticRegression\n",
    "from sklearn.neighbors import KNeighborsClassifier\n",
    "from sklearn.tree import DecisionTreeClassifier\n",
    "from sklearn.naive_bayes import GaussianNB"
   ]
  },
  {
   "cell_type": "markdown",
   "id": "059a851d-07ac-4c9a-84d7-2b37c11ab1ea",
   "metadata": {
    "id": "059a851d-07ac-4c9a-84d7-2b37c11ab1ea"
   },
   "source": [
    "### Task 4: Model Evaluation\n",
    "\n",
    "Evaluate the performance of the developed model using metrics such as accuracy, precision, recall, and F-1 score."
   ]
  },
  {
   "cell_type": "code",
   "execution_count": null,
   "id": "7f5c5122-6ebf-46ba-884a-80fe64bc6666",
   "metadata": {
    "id": "7f5c5122-6ebf-46ba-884a-80fe64bc6666"
   },
   "outputs": [],
   "source": [
    "from sklearn.metrics import accuracy_score, precision_score, recall_score, f1_score\n",
    "\n",
    "##### code goes below ###########\n",
    "\n"
   ]
  },
  {
   "cell_type": "markdown",
   "id": "ad69b4df-03e4-41ba-bf10-589bbebec365",
   "metadata": {
    "id": "ad69b4df-03e4-41ba-bf10-589bbebec365"
   },
   "source": [
    "## Task 5: Check to see if your model performs well, overfits or underfits"
   ]
  },
  {
   "cell_type": "code",
   "execution_count": null,
   "id": "e3257040-1cfc-4d95-8644-feeafe262b79",
   "metadata": {
    "id": "e3257040-1cfc-4d95-8644-feeafe262b79"
   },
   "outputs": [],
   "source": []
  }
 ],
 "metadata": {
  "colab": {
   "provenance": []
  },
  "kernelspec": {
   "display_name": "Python 3 (ipykernel)",
   "language": "python",
   "name": "python3"
  },
  "language_info": {
   "codemirror_mode": {
    "name": "ipython",
    "version": 3
   },
   "file_extension": ".py",
   "mimetype": "text/x-python",
   "name": "python",
   "nbconvert_exporter": "python",
   "pygments_lexer": "ipython3",
   "version": "3.11.5"
  }
 },
 "nbformat": 4,
 "nbformat_minor": 5
}
